{
 "cells": [
  {
   "cell_type": "code",
   "execution_count": null,
   "id": "internal-bishop",
   "metadata": {},
   "outputs": [],
   "source": [
    "import pandas as pd\n",
    "import pymysql\n",
    "import csv\n",
    "import sys\n",
    "from tqdm import tqdm\n",
    "\n",
    "dt_index = pd.date_range(start='20210208', end='20210308')\n",
    "dates = dt_index.strftime(\"%Y%m%d\").tolist()\n",
    "\n",
    "\n",
    "cow_db = pymysql.connect(\n",
    "    user='admin',\n",
    "    passwd='dderocks!',\n",
    "    host='beta_db.sori.ai',\n",
    "    db='COW'\n",
    ")\n",
    "cursor = cow_db.cursor(pymysql.cursors.DictCursor)\n",
    "\n",
    "people=['이재명','이낙연','윤석열','안철수','박영선','오세훈','더불어민주당','국민의힘']\n",
    "\n",
    "for person in people:\n",
    "    for n in tqdm(range(len(dates))):\n",
    "        if n+1!=len(dates):\n",
    "            name=f'%{person}%'\n",
    "\n",
    "            sql=f\"SELECT ORIGINAL_CONTENTS FROM MS_ARTICLE WHERE DATE_FORMAT(STR_TO_DATE(ARTICLE_TIME, '%Y%m%d%H%i'),'%Y%m%d%H%i') BETWEEN '{dates[n]}' AND '{dates[n+1]}' AND SUMMARY_CONTENTS LIKE '{name}';\"\n",
    "            cursor.execute(sql)\n",
    "            result=cursor.fetchall()\n",
    "\n",
    "            with open(f'../article/{person}/뉴스기사원문_{person}_{n+1}.csv','w', newline='',encoding='utf-8') as f:\n",
    "                wr = csv.writer(f)\n",
    "                wr.writerow(f'{person}')\n",
    "                for i in result :\n",
    "                    wr.writerow([i['ORIGINAL_CONTENTS']])\n",
    "                \n",
    "cow_db.close()    \n"
   ]
  },
  {
   "cell_type": "code",
   "execution_count": null,
   "id": "pursuant-waterproof",
   "metadata": {},
   "outputs": [],
   "source": []
  }
 ],
 "metadata": {
  "kernelspec": {
   "display_name": "Python 3",
   "language": "python",
   "name": "python3"
  },
  "language_info": {
   "codemirror_mode": {
    "name": "ipython",
    "version": 3
   },
   "file_extension": ".py",
   "mimetype": "text/x-python",
   "name": "python",
   "nbconvert_exporter": "python",
   "pygments_lexer": "ipython3",
   "version": "3.7.7"
  }
 },
 "nbformat": 4,
 "nbformat_minor": 5
}
